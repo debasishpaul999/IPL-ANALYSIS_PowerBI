{
 "cells": [
  {
   "cell_type": "code",
   "execution_count": 1,
   "metadata": {},
   "outputs": [],
   "source": [
    "import pandas as pd \n",
    "matches = pd.read_csv('matches.csv')\n",
    "deliveries = pd.read_csv('deliveries.csv')"
   ]
  },
  {
   "cell_type": "code",
   "execution_count": 2,
   "metadata": {},
   "outputs": [
    {
     "name": "stdout",
     "output_type": "stream",
     "text": [
      "<class 'pandas.core.frame.DataFrame'>\n",
      "RangeIndex: 1095 entries, 0 to 1094\n",
      "Data columns (total 19 columns):\n",
      " #   Column           Non-Null Count  Dtype  \n",
      "---  ------           --------------  -----  \n",
      " 0   Unnamed: 0       1095 non-null   int64  \n",
      " 1   id               1095 non-null   int64  \n",
      " 2   season           1095 non-null   object \n",
      " 3   city             1044 non-null   object \n",
      " 4   date             1095 non-null   object \n",
      " 5   match_type       1095 non-null   object \n",
      " 6   player_of_match  1090 non-null   object \n",
      " 7   venue            1095 non-null   object \n",
      " 8   team1            1095 non-null   object \n",
      " 9   team2            1095 non-null   object \n",
      " 10  toss_winner      1095 non-null   object \n",
      " 11  toss_decision    1095 non-null   object \n",
      " 12  winner           1090 non-null   object \n",
      " 13  result           1095 non-null   object \n",
      " 14  result_margin    1076 non-null   float64\n",
      " 15  super_over       1095 non-null   object \n",
      " 16  method           21 non-null     object \n",
      " 17  umpire1          1095 non-null   object \n",
      " 18  umpire2          1095 non-null   object \n",
      "dtypes: float64(1), int64(2), object(16)\n",
      "memory usage: 162.7+ KB\n"
     ]
    }
   ],
   "source": [
    "matches.info()"
   ]
  },
  {
   "cell_type": "code",
   "execution_count": 3,
   "metadata": {},
   "outputs": [
    {
     "name": "stdout",
     "output_type": "stream",
     "text": [
      "<class 'pandas.core.frame.DataFrame'>\n",
      "RangeIndex: 260920 entries, 0 to 260919\n",
      "Data columns (total 17 columns):\n",
      " #   Column            Non-Null Count   Dtype \n",
      "---  ------            --------------   ----- \n",
      " 0   Unnamed: 0        260920 non-null  int64 \n",
      " 1   id                260920 non-null  int64 \n",
      " 2   inning            260920 non-null  int64 \n",
      " 3   batting_team      260920 non-null  object\n",
      " 4   over              260920 non-null  int64 \n",
      " 5   ball_number       260920 non-null  int64 \n",
      " 6   batter            260920 non-null  object\n",
      " 7   bowler            260920 non-null  object\n",
      " 8   non_striker       260920 non-null  object\n",
      " 9   batsman_runs      260920 non-null  int64 \n",
      " 10  extra_runs        260920 non-null  int64 \n",
      " 11  total_runs        260920 non-null  int64 \n",
      " 12  extras_type       14125 non-null   object\n",
      " 13  is_wicket         260920 non-null  int64 \n",
      " 14  player_dismissed  12950 non-null   object\n",
      " 15  dismissal_kind    12950 non-null   object\n",
      " 16  fielder           9354 non-null    object\n",
      "dtypes: int64(9), object(8)\n",
      "memory usage: 33.8+ MB\n"
     ]
    }
   ],
   "source": [
    "deliveries.info()"
   ]
  },
  {
   "cell_type": "code",
   "execution_count": 4,
   "metadata": {},
   "outputs": [
    {
     "data": {
      "text/plain": [
       "Index(['Unnamed: 0', 'id', 'season', 'city', 'date', 'match_type',\n",
       "       'player_of_match', 'venue', 'team1', 'team2', 'toss_winner',\n",
       "       'toss_decision', 'winner', 'result', 'result_margin', 'super_over',\n",
       "       'method', 'umpire1', 'umpire2'],\n",
       "      dtype='object')"
      ]
     },
     "execution_count": 4,
     "metadata": {},
     "output_type": "execute_result"
    }
   ],
   "source": [
    "matches.columns"
   ]
  },
  {
   "cell_type": "code",
   "execution_count": 5,
   "metadata": {},
   "outputs": [
    {
     "data": {
      "text/plain": [
       "Index(['Unnamed: 0', 'id', 'inning', 'batting_team', 'over', 'ball_number',\n",
       "       'batter', 'bowler', 'non_striker', 'batsman_runs', 'extra_runs',\n",
       "       'total_runs', 'extras_type', 'is_wicket', 'player_dismissed',\n",
       "       'dismissal_kind', 'fielder'],\n",
       "      dtype='object')"
      ]
     },
     "execution_count": 5,
     "metadata": {},
     "output_type": "execute_result"
    }
   ],
   "source": [
    "deliveries.columns"
   ]
  },
  {
   "cell_type": "code",
   "execution_count": 6,
   "metadata": {},
   "outputs": [],
   "source": [
    "df_matches = pd.DataFrame(matches)\n",
    "df_matches['city'] = df_matches['city'].replace('Bangalore', 'Bengaluru')\n",
    "df_matches['venue'] = df_matches['venue'].replace({\n",
    "    'Arun Jaitley Stadium, Delhi':'Arun Jaitley Stadium',\n",
    "    'Barsapara Cricket Stadium, Guwahati':'Barsapara Cricket Stadium', \n",
    "    'Brabourne Stadium, Mumbai':'Brabourne Stadium', \n",
    "    'Bharat Ratna Shri Atal Bihari Vajpayee Ekana Cricket Stadium, Lucknow':'Bharat Ratna Shri Atal Bihari Vajpayee Ekana Cricket Stadium','Dr. Y.S. Rajasekhara Reddy ACA-VDCA Cricket Stadium, Visakhapatnam':'Dr. Y.S. Rajasekhara Reddy ACA-VDCA Cricket Stadium',\n",
    "    'Dr DY Patil Sports Academy, Mumbai':'Dr DY Patil Sports Academy',\n",
    "    'M.Chinnaswamy Stadium':'M Chinnaswamy Stadium',\n",
    "    'Eden Gardens, Kolkata':'Eden Gardens',\n",
    "    'M Chinnaswamy Stadium, Bengaluru':'M Chinnaswamy Stadium',\n",
    "    'Himachal Pradesh Cricket Association Stadium, Dharamsala':'Himachal Pradesh Cricket Association Stadium',\n",
    "    'MA Chidambaram Stadium, Chepauk':'MA Chidambaram Stadium',\n",
    "    'MA Chidambaram Stadium, Chepauk, Chennai':'MA Chidambaram Stadium',\n",
    "    'Maharashtra Cricket Association Stadium, Pune':'Maharashtra Cricket Association Stadium',\n",
    "    'Maharaja Yadavindra Singh International Cricket Stadium, Mullanpur':'Maharaja Yadavindra Singh International Cricket Stadium',\n",
    "    'Narendra Modi Stadium, Ahmedabad':'Narendra Modi Stadium',\n",
    "    'Punjab Cricket Association IS Bindra Stadium, Mohali':'Punjab Cricket Association IS Bindra Stadium',\n",
    "    'Punjab Cricket Association IS Bindra Stadium, Mohali, Chandigarh':'Punjab Cricket Association IS Bindra Stadium',\n",
    "    'Punjab Cricket Association Stadium, Mohali':'Punjab Cricket Association IS Bindra Stadium',\n",
    "    'Rajiv Gandhi International Stadium, Uppal':'Rajiv Gandhi International Stadium',\n",
    "    'Rajiv Gandhi International Stadium, Uppal, Hyderabad':'Rajiv Gandhi International Stadium',\n",
    "    'Sardar Patel Stadium, Motera':'Sardar Patel Stadium',\n",
    "    'Sawai Mansingh Stadium, Jaipur':'Sawai Mansingh Stadium',\n",
    "    'Vidarbha Cricket Association Stadium, Jamtha':'Vidarbha Cricket Association Stadium',\n",
    "    'Zayed Cricket Stadium, Abu Dhabi':'Zayed Cricket Stadium',\n",
    "    'Wankhede Stadium, Mumbai':'Wankhede Stadium'\n",
    "    })"
   ]
  },
  {
   "cell_type": "code",
   "execution_count": 7,
   "metadata": {},
   "outputs": [
    {
     "data": {
      "text/plain": [
       "array(['M Chinnaswamy Stadium',\n",
       "       'Punjab Cricket Association IS Bindra Stadium', 'Feroz Shah Kotla',\n",
       "       'Wankhede Stadium', 'Eden Gardens', 'Sawai Mansingh Stadium',\n",
       "       'Rajiv Gandhi International Stadium', 'MA Chidambaram Stadium',\n",
       "       'Dr DY Patil Sports Academy', 'Newlands', \"St George's Park\",\n",
       "       'Kingsmead', 'SuperSport Park', 'Buffalo Park',\n",
       "       'New Wanderers Stadium', 'De Beers Diamond Oval',\n",
       "       'OUTsurance Oval', 'Brabourne Stadium', 'Sardar Patel Stadium',\n",
       "       'Barabati Stadium', 'Vidarbha Cricket Association Stadium',\n",
       "       'Himachal Pradesh Cricket Association Stadium', 'Nehru Stadium',\n",
       "       'Holkar Cricket Stadium',\n",
       "       'Dr. Y.S. Rajasekhara Reddy ACA-VDCA Cricket Stadium',\n",
       "       'Subrata Roy Sahara Stadium',\n",
       "       'Maharashtra Cricket Association Stadium',\n",
       "       'Shaheed Veer Narayan Singh International Stadium',\n",
       "       'JSCA International Stadium Complex', 'Sheikh Zayed Stadium',\n",
       "       'Sharjah Cricket Stadium', 'Dubai International Cricket Stadium',\n",
       "       'Saurashtra Cricket Association Stadium', 'Green Park',\n",
       "       'Arun Jaitley Stadium', 'Narendra Modi Stadium',\n",
       "       'Zayed Cricket Stadium',\n",
       "       'Bharat Ratna Shri Atal Bihari Vajpayee Ekana Cricket Stadium',\n",
       "       'Barsapara Cricket Stadium',\n",
       "       'Maharaja Yadavindra Singh International Cricket Stadium'],\n",
       "      dtype=object)"
      ]
     },
     "execution_count": 7,
     "metadata": {},
     "output_type": "execute_result"
    }
   ],
   "source": [
    "df_matches['venue'].unique()"
   ]
  },
  {
   "cell_type": "code",
   "execution_count": 8,
   "metadata": {},
   "outputs": [],
   "source": [
    "col = ['team1','team2','toss_winner','winner']\n",
    "for i in col:\n",
    "    df_matches[i] = df_matches[i].replace({\n",
    "    'Delhi Daredevils':'Delhi Capitals',\n",
    "    'Gujarat Lions':'Gujarat Titans',\n",
    "    'Kings XI Punjab':'Punjab Kings',\n",
    "    'Rising Pune Supergiants':'Rising Pune Supergiant',\n",
    "    'Royal Challengers Bangalore':'Royal Challengers Bengaluru'\n",
    "    })"
   ]
  },
  {
   "cell_type": "code",
   "execution_count": 9,
   "metadata": {},
   "outputs": [
    {
     "data": {
      "text/plain": [
       "array(['Royal Challengers Bengaluru', 'Punjab Kings', 'Delhi Capitals',\n",
       "       'Mumbai Indians', 'Kolkata Knight Riders', 'Rajasthan Royals',\n",
       "       'Deccan Chargers', 'Chennai Super Kings', 'Kochi Tuskers Kerala',\n",
       "       'Pune Warriors', 'Sunrisers Hyderabad', 'Gujarat Titans',\n",
       "       'Rising Pune Supergiant', 'Lucknow Super Giants'], dtype=object)"
      ]
     },
     "execution_count": 9,
     "metadata": {},
     "output_type": "execute_result"
    }
   ],
   "source": [
    "df_matches['team1'].unique()"
   ]
  },
  {
   "cell_type": "code",
   "execution_count": 10,
   "metadata": {},
   "outputs": [],
   "source": [
    "df_deliveries = pd.DataFrame(deliveries)\n",
    "df_deliveries['batting_team'] = df_deliveries['batting_team'].replace({\n",
    "'Delhi Daredevils':'Delhi Capitals',\n",
    "'Gujarat Lions':'Gujarat Titans',\n",
    "'Kings XI Punjab':'Punjab Kings',\n",
    "'Rising Pune Supergiants':'Rising Pune Supergiant',\n",
    "'Royal Challengers Bangalore':'Royal Challengers Bengaluru'\n",
    "})"
   ]
  },
  {
   "cell_type": "code",
   "execution_count": 12,
   "metadata": {},
   "outputs": [],
   "source": [
    "df_matches.to_csv('matches.csv')\n",
    "df_deliveries.to_csv('deliveries.csv')"
   ]
  },
  {
   "cell_type": "code",
   "execution_count": null,
   "metadata": {},
   "outputs": [],
   "source": []
  }
 ],
 "metadata": {
  "kernelspec": {
   "display_name": "Python 3",
   "language": "python",
   "name": "python3"
  },
  "language_info": {
   "codemirror_mode": {
    "name": "ipython",
    "version": 3
   },
   "file_extension": ".py",
   "mimetype": "text/x-python",
   "name": "python",
   "nbconvert_exporter": "python",
   "pygments_lexer": "ipython3",
   "version": "3.12.8"
  }
 },
 "nbformat": 4,
 "nbformat_minor": 2
}
